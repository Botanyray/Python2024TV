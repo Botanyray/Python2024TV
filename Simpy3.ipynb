{
 "cells": [
  {
   "cell_type": "code",
   "execution_count": 63,
   "id": "1e950d5c",
   "metadata": {},
   "outputs": [],
   "source": [
    "import numpy as np\n",
    "import sympy as smp\n",
    "from sympy.vector import *\n",
    "import matplotlib.pyplot as plt\n",
    "from scipy.integrate import quad\n",
    "from scipy.integrate import quad_vec"
   ]
  },
  {
   "cell_type": "code",
   "execution_count": 64,
   "id": "a67d6a5e",
   "metadata": {},
   "outputs": [],
   "source": [
    "x, y, z, u1, u2, u3, v1, v2, v3, t = smp.symbols('x y z u_1 u_2 u_3 v_1 v_2 v_3 t')"
   ]
  },
  {
   "cell_type": "markdown",
   "id": "a77beba3",
   "metadata": {},
   "source": [
    "# Vectors and Geometry"
   ]
  },
  {
   "cell_type": "markdown",
   "id": "3af2b87f",
   "metadata": {},
   "source": [
    "Numerical or symbolic"
   ]
  },
  {
   "cell_type": "code",
   "execution_count": 65,
   "id": "5ce14168",
   "metadata": {},
   "outputs": [],
   "source": [
    "a = np.array([1,2,3])\n",
    "b = np.array([7,8,9])\n",
    "u = smp.Matrix([u1,u2,u3])\n",
    "v = smp.Matrix([v1,v2,v3])"
   ]
  },
  {
   "cell_type": "markdown",
   "id": "453c6ac8",
   "metadata": {},
   "source": [
    "## Addition and multiplication"
   ]
  },
  {
   "cell_type": "code",
   "execution_count": 66,
   "id": "ace3345f",
   "metadata": {},
   "outputs": [
    {
     "data": {
      "text/plain": [
       "array([ 9, 12, 15])"
      ]
     },
     "execution_count": 66,
     "metadata": {},
     "output_type": "execute_result"
    }
   ],
   "source": [
    "2*a+b"
   ]
  },
  {
   "cell_type": "code",
   "execution_count": 67,
   "id": "4d058f1d",
   "metadata": {},
   "outputs": [
    {
     "data": {
      "text/latex": [
       "$\\displaystyle \\left[\\begin{matrix}2 u_{1} + v_{1}\\\\2 u_{2} + v_{2}\\\\2 u_{3} + v_{3}\\end{matrix}\\right]$"
      ],
      "text/plain": [
       "Matrix([\n",
       "[2*u_1 + v_1],\n",
       "[2*u_2 + v_2],\n",
       "[2*u_3 + v_3]])"
      ]
     },
     "execution_count": 67,
     "metadata": {},
     "output_type": "execute_result"
    }
   ],
   "source": [
    "2*u+v"
   ]
  },
  {
   "cell_type": "markdown",
   "id": "259934b7",
   "metadata": {},
   "source": [
    "## Dot products"
   ]
  },
  {
   "cell_type": "code",
   "execution_count": 68,
   "id": "fa129629",
   "metadata": {},
   "outputs": [
    {
     "data": {
      "text/plain": [
       "50"
      ]
     },
     "execution_count": 68,
     "metadata": {},
     "output_type": "execute_result"
    }
   ],
   "source": [
    "np.dot(a, b)"
   ]
  },
  {
   "cell_type": "code",
   "execution_count": 69,
   "id": "68aaf561",
   "metadata": {},
   "outputs": [
    {
     "data": {
      "text/latex": [
       "$\\displaystyle u_{1} v_{1} + u_{2} v_{2} + u_{3} v_{3}$"
      ],
      "text/plain": [
       "u_1*v_1 + u_2*v_2 + u_3*v_3"
      ]
     },
     "execution_count": 69,
     "metadata": {},
     "output_type": "execute_result"
    }
   ],
   "source": [
    "u.dot(v)"
   ]
  },
  {
   "cell_type": "markdown",
   "id": "8e8b7a6d",
   "metadata": {},
   "source": [
    "## Cross products"
   ]
  },
  {
   "cell_type": "code",
   "execution_count": 70,
   "id": "30578115",
   "metadata": {},
   "outputs": [
    {
     "data": {
      "text/plain": [
       "array([-6, 12, -6])"
      ]
     },
     "execution_count": 70,
     "metadata": {},
     "output_type": "execute_result"
    }
   ],
   "source": [
    "np.cross(a,b)"
   ]
  },
  {
   "cell_type": "code",
   "execution_count": 71,
   "id": "1bfe385c",
   "metadata": {},
   "outputs": [
    {
     "data": {
      "text/latex": [
       "$\\displaystyle \\left[\\begin{matrix}u_{2} v_{3} - u_{3} v_{2}\\\\- u_{1} v_{3} + u_{3} v_{1}\\\\u_{1} v_{2} - u_{2} v_{1}\\end{matrix}\\right]$"
      ],
      "text/plain": [
       "Matrix([\n",
       "[ u_2*v_3 - u_3*v_2],\n",
       "[-u_1*v_3 + u_3*v_1],\n",
       "[ u_1*v_2 - u_2*v_1]])"
      ]
     },
     "execution_count": 71,
     "metadata": {},
     "output_type": "execute_result"
    }
   ],
   "source": [
    "u.cross(v)"
   ]
  },
  {
   "cell_type": "markdown",
   "id": "d6a53471",
   "metadata": {},
   "source": [
    "## Length of vector"
   ]
  },
  {
   "cell_type": "code",
   "execution_count": 72,
   "id": "ed366233",
   "metadata": {},
   "outputs": [
    {
     "data": {
      "text/plain": [
       "3.7416573867739413"
      ]
     },
     "execution_count": 72,
     "metadata": {},
     "output_type": "execute_result"
    }
   ],
   "source": [
    "np.linalg.norm(a)"
   ]
  },
  {
   "cell_type": "code",
   "execution_count": 73,
   "id": "058cac44",
   "metadata": {},
   "outputs": [
    {
     "data": {
      "text/latex": [
       "$\\displaystyle \\sqrt{\\left|{u_{1}}\\right|^{2} + \\left|{u_{2}}\\right|^{2} + \\left|{u_{3}}\\right|^{2}}$"
      ],
      "text/plain": [
       "sqrt(Abs(u_1)**2 + Abs(u_2)**2 + Abs(u_3)**2)"
      ]
     },
     "execution_count": 73,
     "metadata": {},
     "output_type": "execute_result"
    }
   ],
   "source": [
    "u.norm()"
   ]
  },
  {
   "cell_type": "markdown",
   "id": "6964b6dd",
   "metadata": {},
   "source": [
    "## Vector projection\n",
    "\n",
    "$\\text{proj}_v(u) = \\frac{u \\cdot v}{|v|^2} v$"
   ]
  },
  {
   "cell_type": "code",
   "execution_count": 74,
   "id": "6867864f",
   "metadata": {},
   "outputs": [
    {
     "data": {
      "text/plain": [
       "array([1.80412371, 2.06185567, 2.31958763])"
      ]
     },
     "execution_count": 74,
     "metadata": {},
     "output_type": "execute_result"
    }
   ],
   "source": [
    "proj_b_a = np.dot(a,b)/np.linalg.norm(b)**2 * b\n",
    "proj_b_a"
   ]
  },
  {
   "cell_type": "code",
   "execution_count": 75,
   "id": "921ab863",
   "metadata": {},
   "outputs": [
    {
     "data": {
      "text/latex": [
       "$\\displaystyle \\left[\\begin{matrix}\\frac{v_{1} \\left(u_{1} v_{1} + u_{2} v_{2} + u_{3} v_{3}\\right)}{\\left|{v_{1}}\\right|^{2} + \\left|{v_{2}}\\right|^{2} + \\left|{v_{3}}\\right|^{2}}\\\\\\frac{v_{2} \\left(u_{1} v_{1} + u_{2} v_{2} + u_{3} v_{3}\\right)}{\\left|{v_{1}}\\right|^{2} + \\left|{v_{2}}\\right|^{2} + \\left|{v_{3}}\\right|^{2}}\\\\\\frac{v_{3} \\left(u_{1} v_{1} + u_{2} v_{2} + u_{3} v_{3}\\right)}{\\left|{v_{1}}\\right|^{2} + \\left|{v_{2}}\\right|^{2} + \\left|{v_{3}}\\right|^{2}}\\end{matrix}\\right]$"
      ],
      "text/plain": [
       "Matrix([\n",
       "[v_1*(u_1*v_1 + u_2*v_2 + u_3*v_3)/(Abs(v_1)**2 + Abs(v_2)**2 + Abs(v_3)**2)],\n",
       "[v_2*(u_1*v_1 + u_2*v_2 + u_3*v_3)/(Abs(v_1)**2 + Abs(v_2)**2 + Abs(v_3)**2)],\n",
       "[v_3*(u_1*v_1 + u_2*v_2 + u_3*v_3)/(Abs(v_1)**2 + Abs(v_2)**2 + Abs(v_3)**2)]])"
      ]
     },
     "execution_count": 75,
     "metadata": {},
     "output_type": "execute_result"
    }
   ],
   "source": [
    "proj_v_u = u.dot(v)/v.norm()**2 * v\n",
    "proj_v_u"
   ]
  },
  {
   "cell_type": "markdown",
   "id": "71438d2a",
   "metadata": {},
   "source": [
    "## Lines/Planes in Space\n",
    "\n",
    "Lines: $\\vec{r}(t) = \\vec{r}_0 + t\\vec{v}$"
   ]
  },
  {
   "cell_type": "code",
   "execution_count": 76,
   "id": "48994ebe",
   "metadata": {},
   "outputs": [
    {
     "data": {
      "text/latex": [
       "$\\displaystyle \\left[\\begin{matrix}t + 1\\\\3 t + 1\\\\1 - t\\end{matrix}\\right]$"
      ],
      "text/plain": [
       "Matrix([\n",
       "[  t + 1],\n",
       "[3*t + 1],\n",
       "[  1 - t]])"
      ]
     },
     "execution_count": 76,
     "metadata": {},
     "output_type": "execute_result"
    }
   ],
   "source": [
    "r0 = smp.Matrix([1,1,1])\n",
    "v = smp.Matrix([1,3,-1])\n",
    "r = r0 + t*v\n",
    "r"
   ]
  },
  {
   "cell_type": "markdown",
   "id": "fbf5571f",
   "metadata": {},
   "source": [
    "Planes: $\\vec{n} \\cdot (P_0-\\left<x,y,z\\right>) = 0$"
   ]
  },
  {
   "cell_type": "code",
   "execution_count": 77,
   "id": "0381bd9a",
   "metadata": {},
   "outputs": [
    {
     "data": {
      "text/latex": [
       "$\\displaystyle - x - y - z + 16$"
      ],
      "text/plain": [
       "-x - y - z + 16"
      ]
     },
     "execution_count": 77,
     "metadata": {},
     "output_type": "execute_result"
    }
   ],
   "source": [
    "P0 = smp.Matrix([4,4,8])\n",
    "r = smp.Matrix([x,y,z])\n",
    "n = smp.Matrix([1,1,1])\n",
    "n.dot(P0-r)"
   ]
  },
  {
   "cell_type": "markdown",
   "id": "232df257",
   "metadata": {},
   "source": [
    "**Examples** Find vector parallel to the line of intersection of the two planes $3x-6y-2z = 15$ and $2x+y-2z=5$. (It's  going to be perpendicular to both normal vectors)"
   ]
  },
  {
   "cell_type": "code",
   "execution_count": 78,
   "id": "81701199",
   "metadata": {},
   "outputs": [
    {
     "data": {
      "text/plain": [
       "array([14,  2, 15])"
      ]
     },
     "execution_count": 78,
     "metadata": {},
     "output_type": "execute_result"
    }
   ],
   "source": [
    "n1 = np.array([-3,6,2])\n",
    "n2 = np.array([-2,-1,2])\n",
    "ans = np.cross(n1,n2)\n",
    "ans"
   ]
  },
  {
   "cell_type": "markdown",
   "id": "9ca698cd",
   "metadata": {},
   "source": [
    "# Vector Calculus"
   ]
  },
  {
   "cell_type": "markdown",
   "id": "044ed687",
   "metadata": {},
   "source": [
    "## Vector Derivatives"
   ]
  },
  {
   "cell_type": "code",
   "execution_count": 79,
   "id": "410ffb60",
   "metadata": {},
   "outputs": [
    {
     "data": {
      "text/latex": [
       "$\\displaystyle \\left[\\begin{matrix}3 t\\\\\\sin{\\left(t \\right)}\\\\t^{2}\\end{matrix}\\right]$"
      ],
      "text/plain": [
       "Matrix([\n",
       "[   3*t],\n",
       "[sin(t)],\n",
       "[  t**2]])"
      ]
     },
     "execution_count": 79,
     "metadata": {},
     "output_type": "execute_result"
    }
   ],
   "source": [
    "r = smp.Matrix([3*t, smp.sin(t), t**2])\n",
    "r"
   ]
  },
  {
   "cell_type": "code",
   "execution_count": 80,
   "id": "26555bbf",
   "metadata": {},
   "outputs": [
    {
     "data": {
      "text/latex": [
       "$\\displaystyle \\left[\\begin{matrix}3\\\\\\cos{\\left(t \\right)}\\\\2 t\\end{matrix}\\right]$"
      ],
      "text/plain": [
       "Matrix([\n",
       "[     3],\n",
       "[cos(t)],\n",
       "[   2*t]])"
      ]
     },
     "execution_count": 80,
     "metadata": {},
     "output_type": "execute_result"
    }
   ],
   "source": [
    "smp.diff(r,t)"
   ]
  },
  {
   "cell_type": "markdown",
   "id": "a0a380ef",
   "metadata": {},
   "source": [
    "Example: Find the angle between the velocity and acceleration as a function of time $\\theta(t)$"
   ]
  },
  {
   "cell_type": "code",
   "execution_count": 81,
   "id": "aecc99c7",
   "metadata": {},
   "outputs": [],
   "source": [
    "v = smp.diff(r,t)\n",
    "a = smp.diff(v,t)\n",
    "theta = smp.acos(v.dot(a)/(v.norm()*a.norm())).simplify()"
   ]
  },
  {
   "cell_type": "code",
   "execution_count": 82,
   "id": "9943e40f",
   "metadata": {},
   "outputs": [
    {
     "data": {
      "text/latex": [
       "$\\displaystyle \\operatorname{acos}{\\left(\\frac{4 t - \\frac{\\sin{\\left(2 t \\right)}}{2}}{\\sqrt{\\left|{\\sin{\\left(t \\right)}}\\right|^{2} + 4} \\sqrt{4 \\left|{t}\\right|^{2} + \\left|{\\cos{\\left(t \\right)}}\\right|^{2} + 9}} \\right)}$"
      ],
      "text/plain": [
       "acos((4*t - sin(2*t)/2)/(sqrt(Abs(sin(t))**2 + 4)*sqrt(4*Abs(t)**2 + Abs(cos(t))**2 + 9)))"
      ]
     },
     "execution_count": 82,
     "metadata": {},
     "output_type": "execute_result"
    }
   ],
   "source": [
    "theta"
   ]
  },
  {
   "cell_type": "code",
   "execution_count": 83,
   "id": "d9fab492-63da-4e83-9e3d-6f694d44fa90",
   "metadata": {},
   "outputs": [
    {
     "data": {
      "text/latex": [
       "$\\displaystyle \\operatorname{acos}{\\left(\\frac{24 - \\frac{\\sin{\\left(12 \\right)}}{2}}{\\sqrt{\\sin^{2}{\\left(6 \\right)} + 4} \\sqrt{\\cos^{2}{\\left(6 \\right)} + 153}} \\right)}$"
      ],
      "text/plain": [
       "acos((24 - sin(12)/2)/(sqrt(sin(6)**2 + 4)*sqrt(cos(6)**2 + 153)))"
      ]
     },
     "execution_count": 83,
     "metadata": {},
     "output_type": "execute_result"
    }
   ],
   "source": [
    "theta.subs(t,6)"
   ]
  },
  {
   "cell_type": "code",
   "execution_count": 84,
   "id": "89570617",
   "metadata": {},
   "outputs": [
    {
     "data": {
      "text/latex": [
       "$\\displaystyle 0.251108015692338$"
      ],
      "text/plain": [
       "0.251108015692338"
      ]
     },
     "execution_count": 84,
     "metadata": {},
     "output_type": "execute_result"
    }
   ],
   "source": [
    "theta.subs(t,6).evalf()"
   ]
  },
  {
   "cell_type": "code",
   "execution_count": 85,
   "id": "add3a9c6",
   "metadata": {},
   "outputs": [
    {
     "data": {
      "image/png": "[encoded data removed]",
      "text/plain": [
       "<Figure size 640x480 with 1 Axes>"
      ]
     },
     "metadata": {},
     "output_type": "display_data"
    }
   ],
   "source": [
    "tt = np.linspace(0, 10, 100)\n",
    "aa = smp.lambdify([t], theta)(tt)\n",
    "plt.plot(tt,aa)\n",
    "plt.xlabel('$t$', fontsize=20)\n",
    "plt.ylabel(r'$\\theta(t)$', fontsize=20)\n",
    "plt.show()"
   ]
  },
  {
   "cell_type": "markdown",
   "id": "1e9ee7ba",
   "metadata": {},
   "source": [
    "## Vector Integrals"
   ]
  },
  {
   "cell_type": "markdown",
   "id": "ec5357d3",
   "metadata": {},
   "source": [
    "Note: Will not add the +C"
   ]
  },
  {
   "cell_type": "code",
   "execution_count": 86,
   "id": "69e31577",
   "metadata": {},
   "outputs": [
    {
     "data": {
      "text/latex": [
       "$\\displaystyle \\left[\\begin{matrix}e^{t} \\cos{\\left(t \\right)}\\\\t^{4}\\\\\\frac{1}{t^{2} + 1}\\end{matrix}\\right]$"
      ],
      "text/plain": [
       "Matrix([\n",
       "[exp(t)*cos(t)],\n",
       "[         t**4],\n",
       "[ 1/(t**2 + 1)]])"
      ]
     },
     "execution_count": 86,
     "metadata": {},
     "output_type": "execute_result"
    }
   ],
   "source": [
    "r = smp.Matrix([smp.exp(t)*smp.cos(t), t**4, 1/(1+t**2)])\n",
    "r"
   ]
  },
  {
   "cell_type": "code",
   "execution_count": 87,
   "id": "e003a8a5-7858-438c-83db-038ee216b946",
   "metadata": {},
   "outputs": [
    {
     "data": {
      "text/latex": [
       "$\\displaystyle \\int \\left[\\begin{matrix}e^{t} \\cos{\\left(t \\right)}\\\\t^{4}\\\\\\frac{1}{t^{2} + 1}\\end{matrix}\\right]\\, dt$"
      ],
      "text/plain": [
       "Integral(Matrix([\n",
       "[exp(t)*cos(t)],\n",
       "[         t**4],\n",
       "[ 1/(t**2 + 1)]]), t)"
      ]
     },
     "execution_count": 87,
     "metadata": {},
     "output_type": "execute_result"
    }
   ],
   "source": [
    "smp.Integral(r)"
   ]
  },
  {
   "cell_type": "code",
   "execution_count": 88,
   "id": "0d379b46",
   "metadata": {},
   "outputs": [
    {
     "data": {
      "text/latex": [
       "$\\displaystyle \\left[\\begin{matrix}\\frac{e^{t} \\sin{\\left(t \\right)}}{2} + \\frac{e^{t} \\cos{\\left(t \\right)}}{2}\\\\\\frac{t^{5}}{5}\\\\\\operatorname{atan}{\\left(t \\right)}\\end{matrix}\\right]$"
      ],
      "text/plain": [
       "Matrix([\n",
       "[exp(t)*sin(t)/2 + exp(t)*cos(t)/2],\n",
       "[                           t**5/5],\n",
       "[                          atan(t)]])"
      ]
     },
     "execution_count": 88,
     "metadata": {},
     "output_type": "execute_result"
    }
   ],
   "source": [
    "smp.Integral(r).doit()"
   ]
  },
  {
   "cell_type": "markdown",
   "id": "5916d1da",
   "metadata": {},
   "source": [
    "In some cases integral cannot be evaluated symbolically: must solve definite integrals numerically:"
   ]
  },
  {
   "cell_type": "code",
   "execution_count": 89,
   "id": "aaadcbeb",
   "metadata": {},
   "outputs": [
    {
     "data": {
      "text/latex": [
       "$\\displaystyle \\left[\\begin{matrix}e^{t^{2}} \\cos^{3}{\\left(t \\right)}\\\\e^{- t^{4}}\\\\\\frac{1}{t^{2} + 3}\\end{matrix}\\right]$"
      ],
      "text/plain": [
       "Matrix([\n",
       "[exp(t**2)*cos(t)**3],\n",
       "[         exp(-t**4)],\n",
       "[       1/(t**2 + 3)]])"
      ]
     },
     "execution_count": 89,
     "metadata": {},
     "output_type": "execute_result"
    }
   ],
   "source": [
    "r = smp.Matrix([smp.exp(t**2)*smp.cos(t)**3, smp.exp(-t**4), 1/(3+t**2)])\n",
    "r"
   ]
  },
  {
   "cell_type": "markdown",
   "id": "807d4a1b",
   "metadata": {},
   "source": [
    "Integrate from $t=0$ to $t=4$"
   ]
  },
  {
   "cell_type": "code",
   "execution_count": 90,
   "id": "5733ab1c",
   "metadata": {},
   "outputs": [],
   "source": [
    "r_num = smp.lambdify([t], r)"
   ]
  },
  {
   "cell_type": "code",
   "execution_count": 91,
   "id": "40ab07b0",
   "metadata": {},
   "outputs": [
    {
     "data": {
      "text/plain": [
       "array([[-4.83559254e+05],\n",
       "       [ 9.06402477e-01],\n",
       "       [ 6.70972506e-01]])"
      ]
     },
     "execution_count": 91,
     "metadata": {},
     "output_type": "execute_result"
    }
   ],
   "source": [
    "r_num = smp.lambdify([t], r)\n",
    "quad_vec(r_num, 0, 4)[0]"
   ]
  },
  {
   "cell_type": "markdown",
   "id": "bf2834f1",
   "metadata": {},
   "source": [
    "## Arclength\n",
    "\n",
    "$$L = \\int_a^b \\sqrt{dx^2 + dy^2 + dz^2} = \\int_a^b \\sqrt{(dx/dt)^2 + (dy/dt)^2 + (dz/dt)^2 } dt $$"
   ]
  },
  {
   "cell_type": "markdown",
   "id": "4463e12c",
   "metadata": {},
   "source": [
    "Rare Cases can be done symbolically. Find arclength of $\\left< 0, t, t^2 \\right>$ from $t=0$ to $t=1$"
   ]
  },
  {
   "cell_type": "code",
   "execution_count": 92,
   "id": "0bd61723",
   "metadata": {},
   "outputs": [
    {
     "data": {
      "text/latex": [
       "$\\displaystyle \\frac{\\operatorname{asinh}{\\left(2 \\right)}}{4} + \\frac{\\sqrt{5}}{2}$"
      ],
      "text/plain": [
       "asinh(2)/4 + sqrt(5)/2"
      ]
     },
     "execution_count": 92,
     "metadata": {},
     "output_type": "execute_result"
    }
   ],
   "source": [
    "r = smp.Matrix([0, t, t**2])\n",
    "smp.integrate(smp.diff(r,t).norm(), (t,0,1))"
   ]
  },
  {
   "cell_type": "markdown",
   "id": "2d9223e7",
   "metadata": {},
   "source": [
    "In most cases needs to be done numerically. Find arclength of $\\left< e^t, \\sin(t), t^4 \\right>$ from $t=0$ to $t=1$"
   ]
  },
  {
   "cell_type": "code",
   "execution_count": 93,
   "id": "06f2ffa2",
   "metadata": {},
   "outputs": [
    {
     "data": {
      "text/plain": [
       "2.316977146444862"
      ]
     },
     "execution_count": 93,
     "metadata": {},
     "output_type": "execute_result"
    }
   ],
   "source": [
    "r = smp.Matrix([smp.exp(t), smp.sin(t), t**4])\n",
    "r_num = smp.lambdify([t], smp.diff(r,t).norm())\n",
    "quad(r_num, 0, 1)[0]"
   ]
  },
  {
   "cell_type": "markdown",
   "id": "3c63fd18",
   "metadata": {},
   "source": [
    "## Other Relavent Quantities\n",
    "\n",
    "If $ds = \\sqrt{dx^2 + dy^2 + dz^2}$ is the arclength element $ds/dt = \\sqrt{(dx/dt)^2 + (dy/dt)^2 + (dz/dt)^2 } = |d\\vec{r}/dt| = |\\vec{v}|$ then the other quantities of importance are"
   ]
  },
  {
   "cell_type": "markdown",
   "id": "1e858817",
   "metadata": {},
   "source": [
    "* Unit Tangent vector: $\\vec{T} = \\frac{d\\vec{r}}{dt}\\frac{1}{|d\\vec{r}/dt|} = \\vec{v}/|\\vec{v}|$ \n",
    "* Curvature: $\\kappa = |\\frac{d\\vec{T}}{dt}|\\frac{1}{|\\vec{v}|}$\n",
    "* Unit normal vector to Curve: $\\vec{N} = \\frac{d\\vec{T}/dt}{|d\\vec{T}/dt|}$"
   ]
  },
  {
   "cell_type": "markdown",
   "id": "d3ad2d00",
   "metadata": {},
   "source": [
    "**Example** Find all these for $\\vec{r}(t) = \\left<a\\cos(t)e^t, b\\sin(t), ct\\right>$"
   ]
  },
  {
   "cell_type": "code",
   "execution_count": 94,
   "id": "e6059b7d",
   "metadata": {},
   "outputs": [],
   "source": [
    "t, a, b, c = smp.symbols('t a b c', pos=True, real=True)"
   ]
  },
  {
   "cell_type": "markdown",
   "id": "2193c853",
   "metadata": {},
   "source": [
    "Define the path"
   ]
  },
  {
   "cell_type": "code",
   "execution_count": 95,
   "id": "57ade619",
   "metadata": {},
   "outputs": [
    {
     "data": {
      "text/latex": [
       "$\\displaystyle \\left[\\begin{matrix}a e^{t} \\cos{\\left(t \\right)}\\\\b \\sin{\\left(t \\right)}\\\\c t\\end{matrix}\\right]$"
      ],
      "text/plain": [
       "Matrix([\n",
       "[a*exp(t)*cos(t)],\n",
       "[       b*sin(t)],\n",
       "[            c*t]])"
      ]
     },
     "execution_count": 95,
     "metadata": {},
     "output_type": "execute_result"
    }
   ],
   "source": [
    "r = smp.Matrix([a*smp.cos(t)*smp.exp(t), b*smp.sin(t), c*t])\n",
    "r"
   ]
  },
  {
   "cell_type": "markdown",
   "id": "8042fe3e",
   "metadata": {},
   "source": [
    "Define the velocity vector $\\vec{v}$ and speed $|\\vec{v}|$"
   ]
  },
  {
   "cell_type": "code",
   "execution_count": 96,
   "id": "a7f65570",
   "metadata": {},
   "outputs": [],
   "source": [
    "v = smp.diff(r, t)\n",
    "v_norm = v.norm()"
   ]
  },
  {
   "cell_type": "markdown",
   "id": "1eca8043",
   "metadata": {},
   "source": [
    "Get $\\vec{T}$, $\\kappa$, and $\\vec{N}$"
   ]
  },
  {
   "cell_type": "code",
   "execution_count": 97,
   "id": "3bb82ba2",
   "metadata": {},
   "outputs": [],
   "source": [
    "T = v/v_norm\n",
    "kappa = smp.diff(T, t).norm()/v_norm\n",
    "N = smp.diff(T,t)/smp.diff(T,t).norm()"
   ]
  },
  {
   "cell_type": "markdown",
   "id": "2c10595b",
   "metadata": {},
   "source": [
    "Can evaluate these quantities or make plots"
   ]
  },
  {
   "cell_type": "code",
   "execution_count": 98,
   "id": "ecbae7f6",
   "metadata": {},
   "outputs": [
    {
     "data": {
      "text/latex": [
       "$\\displaystyle 0.00775458595406284$"
      ],
      "text/plain": [
       "0.00775458595406284"
      ]
     },
     "execution_count": 98,
     "metadata": {},
     "output_type": "execute_result"
    }
   ],
   "source": [
    "kappa.subs([(t,2),(a,3),(b,4),(c,5)]).evalf()"
   ]
  },
  {
   "cell_type": "code",
   "execution_count": 99,
   "id": "9a063254",
   "metadata": {},
   "outputs": [
    {
     "data": {
      "text/latex": [
       "$\\displaystyle \\left[\\begin{matrix}-0.152946073876551\\\\-0.204518432770271\\\\-0.966840063890063\\end{matrix}\\right]$"
      ],
      "text/plain": [
       "Matrix([\n",
       "[-0.152946073876551],\n",
       "[-0.204518432770271],\n",
       "[-0.966840063890063]])"
      ]
     },
     "execution_count": 99,
     "metadata": {},
     "output_type": "execute_result"
    }
   ],
   "source": [
    "N.subs([(t,2),(a,3),(b,4),(c,5)]).evalf()"
   ]
  },
  {
   "cell_type": "markdown",
   "id": "33d4d92c",
   "metadata": {},
   "source": [
    "Can also make continuous plots"
   ]
  },
  {
   "cell_type": "code",
   "execution_count": 100,
   "id": "9590573c",
   "metadata": {},
   "outputs": [],
   "source": [
    "kappa_num = smp.lambdify([t,a,b,c], kappa)"
   ]
  },
  {
   "cell_type": "code",
   "execution_count": 101,
   "id": "56e308c7",
   "metadata": {},
   "outputs": [
    {
     "data": {
      "image/png": "[encoded data removed]",
      "text/plain": [
       "<Figure size 640x480 with 1 Axes>"
      ]
     },
     "metadata": {},
     "output_type": "display_data"
    }
   ],
   "source": [
    "tt = np.linspace(0, 2, 100)\n",
    "kk = kappa_num(tt, 1, 2, 3)\n",
    "plt.plot(tt, kk)\n",
    "plt.xlabel('$t$', fontsize=20)\n",
    "plt.ylabel('$\\kappa(t)$', fontsize=20)\n",
    "plt.show()"
   ]
  },
  {
   "cell_type": "markdown",
   "id": "0ac8530c",
   "metadata": {},
   "source": [
    "# Partial/Directional Derivatives"
   ]
  },
  {
   "cell_type": "code",
   "execution_count": 102,
   "id": "8163ddc0",
   "metadata": {},
   "outputs": [],
   "source": [
    "x, y, z = smp.symbols('x y z')"
   ]
  },
  {
   "cell_type": "markdown",
   "id": "e3595075",
   "metadata": {},
   "source": [
    "## Basics"
   ]
  },
  {
   "cell_type": "markdown",
   "id": "06701961",
   "metadata": {},
   "source": [
    "Partial Derivatives $\\partial f / \\partial x$ and $\\partial f / \\partial y$ of $f(x,y)=y^2\\sin(x+y)$"
   ]
  },
  {
   "cell_type": "code",
   "execution_count": 103,
   "id": "4aa3cd6b",
   "metadata": {},
   "outputs": [
    {
     "data": {
      "text/latex": [
       "$\\displaystyle y^{2} \\cos{\\left(x + y \\right)}$"
      ],
      "text/plain": [
       "y**2*cos(x + y)"
      ]
     },
     "execution_count": 103,
     "metadata": {},
     "output_type": "execute_result"
    }
   ],
   "source": [
    "f = y**2 * smp.sin(x+y)\n",
    "smp.diff(f,x)"
   ]
  },
  {
   "cell_type": "code",
   "execution_count": 104,
   "id": "4eb182c3",
   "metadata": {},
   "outputs": [
    {
     "data": {
      "text/latex": [
       "$\\displaystyle y^{2} \\cos{\\left(x + y \\right)} + 2 y \\sin{\\left(x + y \\right)}$"
      ],
      "text/plain": [
       "y**2*cos(x + y) + 2*y*sin(x + y)"
      ]
     },
     "execution_count": 104,
     "metadata": {},
     "output_type": "execute_result"
    }
   ],
   "source": [
    "smp.diff(f,y)"
   ]
  },
  {
   "cell_type": "markdown",
   "id": "77c7a893",
   "metadata": {},
   "source": [
    "Or more complicated things like $\\frac{\\partial^3 f}{\\partial xy^2}$"
   ]
  },
  {
   "cell_type": "code",
   "execution_count": 105,
   "id": "a470496d",
   "metadata": {},
   "outputs": [
    {
     "data": {
      "text/latex": [
       "$\\displaystyle - y^{2} \\cos{\\left(x + y \\right)} - 4 y \\sin{\\left(x + y \\right)} + 2 \\cos{\\left(x + y \\right)}$"
      ],
      "text/plain": [
       "-y**2*cos(x + y) - 4*y*sin(x + y) + 2*cos(x + y)"
      ]
     },
     "execution_count": 105,
     "metadata": {},
     "output_type": "execute_result"
    }
   ],
   "source": [
    "smp.diff(f,y,y,x)"
   ]
  },
  {
   "cell_type": "markdown",
   "id": "613bd51c",
   "metadata": {},
   "source": [
    "## The Chain Rule"
   ]
  },
  {
   "cell_type": "code",
   "execution_count": 106,
   "id": "2efacb2d",
   "metadata": {},
   "outputs": [],
   "source": [
    "t = smp.symbols('t')\n",
    "x, y, z, w, v =smp.symbols('x, y, z w v', cls=smp.Function)"
   ]
  },
  {
   "cell_type": "markdown",
   "id": "8a9ddb7f",
   "metadata": {},
   "source": [
    "* Suppose $x$, $y$, and $z$ are functions of $t$ \n",
    "* $w$ is a function of $x$, $y$, and $z$. i.e $w=w(x,y,z)$\n",
    "\n",
    "Find $dw/dt$"
   ]
  },
  {
   "cell_type": "code",
   "execution_count": 107,
   "id": "ab6fea0c",
   "metadata": {},
   "outputs": [],
   "source": [
    "x = x(t)\n",
    "y = y(t)\n",
    "z = z(t)\n",
    "w = w(x, y, z)"
   ]
  },
  {
   "cell_type": "markdown",
   "id": "d58e3b7b",
   "metadata": {},
   "source": [
    "Can keep things in a more functional form:"
   ]
  },
  {
   "cell_type": "code",
   "execution_count": 108,
   "id": "cadec454",
   "metadata": {},
   "outputs": [
    {
     "data": {
      "text/latex": [
       "$\\displaystyle \\frac{d}{d x{\\left(t \\right)}} w{\\left(x{\\left(t \\right)},y{\\left(t \\right)},z{\\left(t \\right)} \\right)} \\frac{d}{d t} x{\\left(t \\right)} + \\frac{d}{d y{\\left(t \\right)}} w{\\left(x{\\left(t \\right)},y{\\left(t \\right)},z{\\left(t \\right)} \\right)} \\frac{d}{d t} y{\\left(t \\right)} + \\frac{d}{d z{\\left(t \\right)}} w{\\left(x{\\left(t \\right)},y{\\left(t \\right)},z{\\left(t \\right)} \\right)} \\frac{d}{d t} z{\\left(t \\right)}$"
      ],
      "text/plain": [
       "Derivative(w(x(t), y(t), z(t)), x(t))*Derivative(x(t), t) + Derivative(w(x(t), y(t), z(t)), y(t))*Derivative(y(t), t) + Derivative(w(x(t), y(t), z(t)), z(t))*Derivative(z(t), t)"
      ]
     },
     "execution_count": 108,
     "metadata": {},
     "output_type": "execute_result"
    }
   ],
   "source": [
    "smp.diff(w,t)"
   ]
  },
  {
   "cell_type": "markdown",
   "id": "81da598d",
   "metadata": {},
   "source": [
    "Or put in specific functions:"
   ]
  },
  {
   "cell_type": "code",
   "execution_count": 109,
   "id": "daeae206",
   "metadata": {},
   "outputs": [
    {
     "data": {
      "text/latex": [
       "$\\displaystyle 2 t e^{\\cos{\\left(t \\right)}} \\cos{\\left(t^{2} \\right)} - e^{\\cos{\\left(t \\right)}} \\sin{\\left(t \\right)} \\sin{\\left(t^{2} \\right)} + 2 \\sin{\\left(t \\right)} \\cos{\\left(t \\right)}$"
      ],
      "text/plain": [
       "2*t*exp(cos(t))*cos(t**2) - exp(cos(t))*sin(t)*sin(t**2) + 2*sin(t)*cos(t)"
      ]
     },
     "execution_count": 109,
     "metadata": {},
     "output_type": "execute_result"
    }
   ],
   "source": [
    "w1 = x**2+smp.exp(y)*smp.sin(z)\n",
    "smp.diff(w1,t).subs([(x, smp.sin(t)),\n",
    "                    (y, smp.cos(t)),\n",
    "                    (z, t**2)]).doit()"
   ]
  },
  {
   "cell_type": "markdown",
   "id": "b4a5b96c",
   "metadata": {},
   "source": [
    "## Gradients"
   ]
  },
  {
   "cell_type": "markdown",
   "id": "ce523b00",
   "metadata": {},
   "source": [
    "Gradients: $\\nabla f$. Now we are dealing with particular coordinate systems, so we must be careful:"
   ]
  },
  {
   "cell_type": "code",
   "execution_count": 110,
   "id": "de4fe06c",
   "metadata": {},
   "outputs": [],
   "source": [
    "C = CoordSys3D('')"
   ]
  },
  {
   "cell_type": "code",
   "execution_count": 111,
   "id": "fd2cce60",
   "metadata": {},
   "outputs": [
    {
     "data": {
      "text/latex": [
       "$\\displaystyle \\left(\\sin{\\left(\\mathbf{{y}_{}} \\right)}\\right)\\mathbf{\\hat{i}_{}} + \\left(\\mathbf{{x}_{}} \\cos{\\left(\\mathbf{{y}_{}} \\right)}\\right)\\mathbf{\\hat{j}_{}}$"
      ],
      "text/plain": [
       "(sin(.y))*.i + (.x*cos(.y))*.j"
      ]
     },
     "execution_count": 111,
     "metadata": {},
     "output_type": "execute_result"
    }
   ],
   "source": [
    "f = C.x*smp.sin(C.y)\n",
    "gradient(f)"
   ]
  },
  {
   "cell_type": "code",
   "execution_count": 112,
   "id": "c768439d",
   "metadata": {},
   "outputs": [
    {
     "data": {
      "text/latex": [
       "$\\displaystyle \\left[\\begin{matrix}\\sin{\\left(\\mathbf{{y}_{}} \\right)}\\\\\\mathbf{{x}_{}} \\cos{\\left(\\mathbf{{y}_{}} \\right)}\\\\0\\end{matrix}\\right]$"
      ],
      "text/plain": [
       "Matrix([\n",
       "[   sin(.y)],\n",
       "[.x*cos(.y)],\n",
       "[         0]])"
      ]
     },
     "execution_count": 112,
     "metadata": {},
     "output_type": "execute_result"
    }
   ],
   "source": [
    "gradient(f).to_matrix(C)"
   ]
  },
  {
   "cell_type": "code",
   "execution_count": 113,
   "id": "d5749400",
   "metadata": {},
   "outputs": [
    {
     "data": {
      "text/latex": [
       "$\\displaystyle \\left[\\begin{matrix}\\sin{\\left(1 \\right)}\\\\\\mathbf{{x}_{}} \\cos{\\left(1 \\right)}\\\\0\\end{matrix}\\right]$"
      ],
      "text/plain": [
       "Matrix([\n",
       "[   sin(1)],\n",
       "[.x*cos(1)],\n",
       "[        0]])"
      ]
     },
     "execution_count": 113,
     "metadata": {},
     "output_type": "execute_result"
    }
   ],
   "source": [
    "gradient(f).to_matrix(C).subs([(C.y, 1)])"
   ]
  },
  {
   "cell_type": "markdown",
   "id": "094d1158",
   "metadata": {},
   "source": [
    "## Directional Derivatives"
   ]
  },
  {
   "cell_type": "markdown",
   "id": "ad9e1bc4",
   "metadata": {},
   "source": [
    "Directional derivatives $D_u f = \\nabla f \\cdot u$"
   ]
  },
  {
   "cell_type": "code",
   "execution_count": 114,
   "id": "ae801da6",
   "metadata": {},
   "outputs": [
    {
     "data": {
      "text/latex": [
       "$\\displaystyle \\left(\\frac{4 \\sqrt{29}}{29}\\right)\\mathbf{\\hat{i}_{}} + \\left(- \\frac{3 \\sqrt{29}}{29}\\right)\\mathbf{\\hat{j}_{}} + \\left(\\frac{2 \\sqrt{29}}{29}\\right)\\mathbf{\\hat{k}_{}}$"
      ],
      "text/plain": [
       "(4*sqrt(29)/29)*.i + (-3*sqrt(29)/29)*.j + (2*sqrt(29)/29)*.k"
      ]
     },
     "execution_count": 114,
     "metadata": {},
     "output_type": "execute_result"
    }
   ],
   "source": [
    "u = 4*C.i - 3*C.j + 2*C.k\n",
    "# Make into unit vector\n",
    "u = u.normalize()\n",
    "u"
   ]
  },
  {
   "cell_type": "code",
   "execution_count": 115,
   "id": "2894956c",
   "metadata": {},
   "outputs": [
    {
     "data": {
      "text/latex": [
       "$\\displaystyle - \\frac{3 \\sqrt{29} \\mathbf{{x}_{}} \\cos{\\left(\\mathbf{{y}_{}} \\right)}}{29} + \\frac{4 \\sqrt{29} \\sin{\\left(\\mathbf{{y}_{}} \\right)}}{29}$"
      ],
      "text/plain": [
       "-3*sqrt(29)*.x*cos(.y)/29 + 4*sqrt(29)*sin(.y)/29"
      ]
     },
     "execution_count": 115,
     "metadata": {},
     "output_type": "execute_result"
    }
   ],
   "source": [
    "gradient(f).dot(u)"
   ]
  },
  {
   "cell_type": "markdown",
   "id": "46e18915",
   "metadata": {},
   "source": [
    "## Extreme Values and Saddle Points"
   ]
  },
  {
   "cell_type": "markdown",
   "id": "fd46a854",
   "metadata": {},
   "source": [
    "Extreme values of $f(x,y)$ can occur at\n",
    "\n",
    "* 1. Boundary points of the domain of $f$\n",
    "* 2. Critical Points ($f_x=f_y=0$)\n",
    "\n",
    "If\n",
    "\n",
    "* (i) $f_{xx}<0$ and $f_{xx}f_{yy} - f_{xy}^2>0$ at (a,b) then **local maximum**\n",
    "* (ii) $f_{xx}>0$ and $f_{xx}f_{yy} - f_{xy}^2>0$ at (a,b) then **local minimum**\n",
    "* (iii) $f_{xx}f_{yy} - f_{xy}^2 < 0$ at (a,b) then **saddle point**\n",
    "* (iv) $f_{xx}f_{yy} - f_{xy}^2 = 0$ at (a,b) then **inconclusive**"
   ]
  },
  {
   "cell_type": "code",
   "execution_count": 116,
   "id": "2a4c9265",
   "metadata": {},
   "outputs": [
    {
     "data": {
      "text/latex": [
       "$\\displaystyle x^{3} + 3 x y + y^{3}$"
      ],
      "text/plain": [
       "x**3 + 3*x*y + y**3"
      ]
     },
     "execution_count": 116,
     "metadata": {},
     "output_type": "execute_result"
    }
   ],
   "source": [
    "x, y = smp.symbols('x y', real=True)\n",
    "f = x**3 + 3*x*y + y**3\n",
    "f"
   ]
  },
  {
   "cell_type": "code",
   "execution_count": 117,
   "id": "b2bc369f",
   "metadata": {},
   "outputs": [
    {
     "data": {
      "text/plain": [
       "[{x: -1, y: -1}, {x: 0, y: 0}]"
      ]
     },
     "execution_count": 117,
     "metadata": {},
     "output_type": "execute_result"
    }
   ],
   "source": [
    "smp.solve([smp.diff(f,x), smp.diff(f, y)])"
   ]
  },
  {
   "cell_type": "code",
   "execution_count": 118,
   "id": "dc607272",
   "metadata": {},
   "outputs": [],
   "source": [
    "fxx = smp.diff(f,x,x)\n",
    "fyy = smp.diff(f,y,y)\n",
    "fxy = smp.diff(f,x,y)"
   ]
  },
  {
   "cell_type": "markdown",
   "id": "e6c30599",
   "metadata": {},
   "source": [
    "Testing the first point"
   ]
  },
  {
   "cell_type": "code",
   "execution_count": 119,
   "id": "4ce8bee9",
   "metadata": {},
   "outputs": [
    {
     "data": {
      "text/latex": [
       "$\\displaystyle -6$"
      ],
      "text/plain": [
       "-6"
      ]
     },
     "execution_count": 119,
     "metadata": {},
     "output_type": "execute_result"
    }
   ],
   "source": [
    "fxx.subs([(x,-1),(y,-1)])"
   ]
  },
  {
   "cell_type": "code",
   "execution_count": 120,
   "id": "906aa9a3",
   "metadata": {},
   "outputs": [
    {
     "data": {
      "text/latex": [
       "$\\displaystyle 27$"
      ],
      "text/plain": [
       "27"
      ]
     },
     "execution_count": 120,
     "metadata": {},
     "output_type": "execute_result"
    }
   ],
   "source": [
    "test = fxx*fyy-fxy**2\n",
    "test.subs([(x,-1),(y,-1)])"
   ]
  },
  {
   "cell_type": "markdown",
   "id": "ba5e1869",
   "metadata": {},
   "source": [
    "Thus the first point is a local maximum!"
   ]
  },
  {
   "cell_type": "markdown",
   "id": "19279fd1",
   "metadata": {},
   "source": [
    "## Lagrange Multipliers"
   ]
  },
  {
   "cell_type": "markdown",
   "id": "a71a854b",
   "metadata": {},
   "source": [
    "Minimize $f(x,y,z)$ subject to the constraint $g(x,y,z)=0$\n",
    "\n",
    "* Requires solving the two equations $\\nabla f = \\lambda \\nabla g$ and $g(x,y,z)=0$\n",
    "\n",
    "**Example**: A space probe has the shape of an ellipsoid $4x^2 + y^2 + 4z^2 = 16$ and after sitting in the sun for an hour. the temperature on its surface is given by $T(x,y,z)=8x^2+4yz-16z+600$. Find the hottest point on the surface\n",
    "\n",
    "Note that $g=4x^2 + y^2 + 4z^2 - 16 = 0$ and $f=T = 8x^2+4yz-16z+600$ here"
   ]
  },
  {
   "cell_type": "code",
   "execution_count": 121,
   "id": "15de4679",
   "metadata": {},
   "outputs": [],
   "source": [
    "C = CoordSys3D('')"
   ]
  },
  {
   "cell_type": "code",
   "execution_count": 125,
   "id": "5aee6197",
   "metadata": {},
   "outputs": [
    {
     "data": {
      "text/plain": [
       "[{\\lambda: 2, .x: -4/3, .y: -4/3, .z: -4/3},\n",
       " {\\lambda: sqrt(3), .x: 0, .y: -2, .z: -sqrt(3)},\n",
       " {\\lambda: -sqrt(3), .x: 0, .y: -2, .z: sqrt(3)},\n",
       " {\\lambda: 0, .x: 0, .y: 4, .z: 0},\n",
       " {\\lambda: 2, .x: 4/3, .y: -4/3, .z: -4/3}]"
      ]
     },
     "execution_count": 125,
     "metadata": {},
     "output_type": "execute_result"
    }
   ],
   "source": [
    "lam = smp.symbols('\\lambda')\n",
    "g = 4*C.x**2 + C.y**2 + 4*C.z**2 - 16\n",
    "f = 8*C.x**2 + 4*C.y*C.z-16*C.z+600\n",
    "eq1 = gradient(f)-lam*gradient(g)\n",
    "eq1 = eq1.to_matrix(C)\n",
    "eq2 = g\n",
    "sols = smp.solve([eq1, eq2])\n",
    "sols"
   ]
  },
  {
   "cell_type": "code",
   "execution_count": 126,
   "id": "f35d434d",
   "metadata": {},
   "outputs": [
    {
     "name": "stdout",
     "output_type": "stream",
     "text": [
      "642.666666666667\n",
      "641.569219381653\n",
      "558.430780618347\n",
      "600.000000000000\n",
      "642.666666666667\n"
     ]
    }
   ],
   "source": [
    "for sol in sols:\n",
    "    print(f.subs(sol).evalf())"
   ]
  },
  {
   "cell_type": "markdown",
   "id": "d897b86b",
   "metadata": {},
   "source": [
    "First and last solutions are the points where the probe is the hottest."
   ]
  },
  {
   "cell_type": "markdown",
   "id": "5a6d2641",
   "metadata": {},
   "source": [
    "# Multiple Integrals"
   ]
  },
  {
   "cell_type": "markdown",
   "id": "6078ef5e",
   "metadata": {},
   "source": [
    "In rare cases these can be done symbolically:\n",
    "\n",
    "$$\\int_0^1 \\int_0^{1-x^2} \\int_3^{4-x^2-y^2} xdzdydx$$"
   ]
  },
  {
   "cell_type": "code",
   "execution_count": null,
   "id": "9ae3fdf6",
   "metadata": {},
   "outputs": [],
   "source": [
    "x, y, z = smp.symbols('x, y, z')\n",
    "f = x\n",
    "smp.integrate(f, (z, 3, 4-x**2-y**2), (y, 0, 1-x**2), (x, 0, 1))"
   ]
  },
  {
   "cell_type": "markdown",
   "id": "6d6bba2e",
   "metadata": {},
   "source": [
    "But most of the time they need to be done numerically, such as in this example:\n",
    "\n",
    "$$\\int_0^1 \\int_0^{1-x^2} \\int_3^{4-x^2-y^2} xe^{-y}\\cos(z)dzdydx$$"
   ]
  },
  {
   "cell_type": "code",
   "execution_count": null,
   "id": "0d4eee76",
   "metadata": {},
   "outputs": [],
   "source": [
    "# Wont Run!!\n",
    "#x, y, z = smp.symbols('x, y, z')\n",
    "#f = x*smp.exp(-y)*smp.cos(z)\n",
    "#smp.integrate(f, (z, 3, 4-x**2-y**2), (y, 0, 1-x**2), (x, 0, 1))"
   ]
  },
  {
   "cell_type": "markdown",
   "id": "68c84948",
   "metadata": {},
   "source": [
    "Use scipy to evaluate this numerically"
   ]
  },
  {
   "cell_type": "code",
   "execution_count": null,
   "id": "71b72f11",
   "metadata": {},
   "outputs": [],
   "source": [
    "from scipy.integrate import tplquad\n",
    "f = lambda z, y, x: x*np.exp(-y)*np.cos(z)\n",
    "tplquad(f, 0, 1,\n",
    "        lambda x: 0, lambda x: 1-x**2,\n",
    "        lambda x, y: 3, lambda x, y: 4-x**2-y**2)[0]"
   ]
  },
  {
   "cell_type": "markdown",
   "id": "e41dbb97",
   "metadata": {},
   "source": [
    "# Integrals and Vector Fields"
   ]
  },
  {
   "cell_type": "markdown",
   "id": "38cf7a5e",
   "metadata": {},
   "source": [
    "## Line Integrals (Scalar)"
   ]
  },
  {
   "cell_type": "markdown",
   "id": "699bdaff",
   "metadata": {},
   "source": [
    "Given $\\vec{r}(t) = \\left< g(t), h(t), k(t) \\right>$ the line integral of $f(x,y,z)$ along the curve is\n",
    "\n",
    "$$\\int_C f(x,y,z) ds = \\int_a^b f(g(t), h(t), k(t))|d\\vec{r}/dt|dt$$"
   ]
  },
  {
   "cell_type": "code",
   "execution_count": null,
   "id": "3d87b9b5",
   "metadata": {},
   "outputs": [],
   "source": [
    "t = smp.symbols('t', real=True)\n",
    "x, y, z, f = smp.symbols('x y z f', cls=smp.Function, real=True)\n",
    "x = x(t)\n",
    "y = y(t)\n",
    "z = z(t)\n",
    "r = smp.Matrix([x, y, z])\n",
    "f = f(x,y,z)"
   ]
  },
  {
   "cell_type": "code",
   "execution_count": null,
   "id": "46b5b9e2",
   "metadata": {},
   "outputs": [],
   "source": [
    "integrand = f*smp.diff(r,t).norm()\n",
    "integrand"
   ]
  },
  {
   "cell_type": "markdown",
   "id": "f76fe2ba",
   "metadata": {},
   "source": [
    "Suppose \n",
    "* $\\vec{r}(t) = \\left<\\cos(t), \\sin(t), t \\right>$ \n",
    "* $f(x,y,z)=2xy+\\sqrt{z}$ \n",
    "\n",
    "and we are going from $t=0$ to $t=2\\pi$. In this case it can be solved symbolically:"
   ]
  },
  {
   "cell_type": "code",
   "execution_count": null,
   "id": "e31f1c7e",
   "metadata": {},
   "outputs": [],
   "source": [
    "integrand1 = integrand.subs([(f, 2*x*y+smp.sqrt(z)),\n",
    "                            (x, smp.cos(t)),\n",
    "                            (y, smp.sin(t)),\n",
    "                            (z, t)]).doit().simplify()\n",
    "smp.integrate(integrand1, (t, 0, 2*smp.pi))"
   ]
  },
  {
   "cell_type": "markdown",
   "id": "aa7dd27d",
   "metadata": {},
   "source": [
    "In general, can't be done symbolically. Consider now\n",
    "\n",
    "* $\\vec{r}(t) = \\left<3\\cos(t), 2\\sin(t), e^{t/4} \\right>$ \n",
    "* $f(x,y,z)=2xy+\\sqrt{z}$ \n",
    "\n",
    "and we are going from $t=0$ to $t=2\\pi$."
   ]
  },
  {
   "cell_type": "code",
   "execution_count": null,
   "id": "2916ce84",
   "metadata": {},
   "outputs": [],
   "source": [
    "integrand2 = integrand.subs([(f, 2*x*y+smp.sqrt(z)),\n",
    "                            (x, 3*smp.cos(t)),\n",
    "                            (y, smp.sin(t)),\n",
    "                            (z, smp.exp(t/4))]).doit().simplify()\n",
    "# Won't Run!\n",
    "#smp.integrate(integrand2, (t, 0, 2*smp.pi))"
   ]
  },
  {
   "cell_type": "code",
   "execution_count": null,
   "id": "3800cce2",
   "metadata": {},
   "outputs": [],
   "source": [
    "integrand2"
   ]
  },
  {
   "cell_type": "markdown",
   "id": "ef92d175",
   "metadata": {},
   "source": [
    "Do it numerically using scipy's `quad` function"
   ]
  },
  {
   "cell_type": "code",
   "execution_count": null,
   "id": "4599ba5d",
   "metadata": {},
   "outputs": [],
   "source": [
    "integrand2_num = smp.lambdify([t], integrand2)\n",
    "quad(integrand2_num, 0, 2*np.pi)[0]"
   ]
  },
  {
   "cell_type": "markdown",
   "id": "a52013b2",
   "metadata": {},
   "source": [
    "## Line Integrals (Vector)"
   ]
  },
  {
   "cell_type": "markdown",
   "id": "dbb4e0ab",
   "metadata": {},
   "source": [
    "Given $\\vec{r}(t) = \\left< g(t), h(t), k(t) \\right>$ the line integral of $\\vec{F}(x,y,z)$ along the curve is\n",
    "\n",
    "$$\\int_C \\vec{F}(x,y,z) \\cdot d\\vec{r} = \\int_a^b\\vec{F}(g(t), h(t), k(t)) \\cdot \\frac{d\\vec{r}}{dt} dt$$"
   ]
  },
  {
   "cell_type": "code",
   "execution_count": null,
   "id": "0eecb8f8",
   "metadata": {},
   "outputs": [],
   "source": [
    "t = smp.symbols('t', real=True)\n",
    "x, y, z, F1, F2, F3 = smp.symbols('x y z F_1, F_2, F_3', cls=smp.Function, real=True)\n",
    "x = x(t)\n",
    "y = y(t)\n",
    "z = z(t)\n",
    "F1 = F1(x,y,z)\n",
    "F2 = F2(x,y,z)\n",
    "F3 = F3(x,y,z)\n",
    "r = smp.Matrix([x, y, z])\n",
    "F = smp.Matrix([F1, F2, F3])"
   ]
  },
  {
   "cell_type": "code",
   "execution_count": null,
   "id": "da32ee16",
   "metadata": {},
   "outputs": [],
   "source": [
    "integrand = F.dot(smp.diff(r,t))\n",
    "integrand"
   ]
  },
  {
   "cell_type": "markdown",
   "id": "b3c78c0f",
   "metadata": {},
   "source": [
    "Suppose $\\vec{F} = \\left< \\sqrt{z}, -2x, \\sqrt{y}\\right>$ and $\\vec{r}(t) = \\left<t, t^2, t^4 \\right>$ from $t=0$ to $t=1$"
   ]
  },
  {
   "cell_type": "code",
   "execution_count": null,
   "id": "fe5e6560",
   "metadata": {},
   "outputs": [],
   "source": [
    "integrand1 = integrand.subs([(F1, smp.sqrt(z)),\n",
    "                             (F2, -2*x),\n",
    "                             (F3, smp.sqrt(y)),\n",
    "                             (x, t),\n",
    "                             (y, t**2),\n",
    "                             (z, t**4)]).doit().simplify()\n",
    "smp.integrate(integrand1, (t, 0, 1))"
   ]
  },
  {
   "cell_type": "markdown",
   "id": "56e07b4c",
   "metadata": {},
   "source": [
    "Often times this can't be done by hand, and one needs to evaluate numerically using scipy:\n",
    "\n",
    "Suppose $\\vec{F} = \\left< \\sqrt{|z|}, -2x, \\sqrt{|y|}\\right>$ and $\\vec{r}(t) = \\left<3\\cos^2(t), t^2, 2\\sin(t) \\right>$ from $t=0$ to $t=2\\pi$"
   ]
  },
  {
   "cell_type": "code",
   "execution_count": null,
   "id": "29e6bc9f",
   "metadata": {},
   "outputs": [],
   "source": [
    "integrand2 = integrand.subs([(F1, smp.sqrt(smp.Abs(z))),\n",
    "                             (F2, -2*x),\n",
    "                             (F3, smp.sqrt(smp.Abs(y))),\n",
    "                             (x, 3*smp.cos(t)**2),\n",
    "                             (y, t**2),\n",
    "                             (z, 2*smp.sin(t))]).doit().simplify()\n",
    "# Won't Run\n",
    "#smp.integrate(integrand2, (t, 0, 2*smp.pi))"
   ]
  },
  {
   "cell_type": "code",
   "execution_count": null,
   "id": "2d2b9a09",
   "metadata": {},
   "outputs": [],
   "source": [
    "integrand2"
   ]
  },
  {
   "cell_type": "markdown",
   "id": "db9463cf",
   "metadata": {},
   "source": [
    "Do it numerically using scipy's `quad` function"
   ]
  },
  {
   "cell_type": "code",
   "execution_count": null,
   "id": "c303ab1e",
   "metadata": {},
   "outputs": [],
   "source": [
    "integrand2_num = smp.lambdify([t], integrand2)\n",
    "quad(integrand2_num, 0, 2*np.pi)[0]"
   ]
  },
  {
   "cell_type": "markdown",
   "id": "819c62c5",
   "metadata": {},
   "source": [
    "## Surface Integrals (Scalar)"
   ]
  },
  {
   "cell_type": "markdown",
   "id": "f70d090b",
   "metadata": {},
   "source": [
    "Area of a surface parameterized by $\\vec{r}(u,v)$ is given by \n",
    "\n",
    "$$A = \\iint_S \\left| \\frac{d\\vec{r}}{du} \\times \\frac{d\\vec{r}}{dv} \\right| du dv$$\n",
    "\n",
    "The surface integral of a scalar function $G(\\vec{r})$ is given by\n",
    "\n",
    "$$\\iint_S G(\\vec{r}(u,v)) \\left| \\frac{d\\vec{r}}{du} \\times \\frac{d\\vec{r}}{dv} \\right| du dv$$"
   ]
  },
  {
   "cell_type": "markdown",
   "id": "0e8aeed0",
   "metadata": {},
   "source": [
    "2D parabola: $\\vec{r}(x,y) = \\left<x, y, x^2+y^2 \\right>$ and thus $\\vec{r}(\\rho, \\theta) = \\left<\\rho\\cos\\theta, \\rho\\sin\\theta, \\rho^2\\right>$. Suppose the surface density is given by $G(x,y,z)=x^2+y^2$. Find surface integral for $0<\\rho<1$ and $0<\\theta<2\\pi$"
   ]
  },
  {
   "cell_type": "code",
   "execution_count": null,
   "id": "508110a8",
   "metadata": {},
   "outputs": [],
   "source": [
    "rho, the = smp.symbols(r'\\rho \\theta',pos=True, real=True)\n",
    "x, y, z, G = smp.symbols('x y z G', cls=smp.Function, real=True)\n",
    "x = x(rho, the)\n",
    "y = y(rho, the)\n",
    "z = z(rho, the)\n",
    "G = G(x,y,z)\n",
    "r = smp.Matrix([x, y, z])"
   ]
  },
  {
   "cell_type": "code",
   "execution_count": null,
   "id": "015cf22d",
   "metadata": {},
   "outputs": [],
   "source": [
    "integrand = G*smp.diff(r,rho).cross(smp.diff(r,the)).norm()\n",
    "integrand"
   ]
  },
  {
   "cell_type": "code",
   "execution_count": null,
   "id": "7589b862",
   "metadata": {},
   "outputs": [],
   "source": [
    "integrand1 = integrand.subs([(G, x**2+y**2),\n",
    "                             (x, rho*smp.cos(the)),\n",
    "                             (y, rho*smp.sin(the)),\n",
    "                             (z, rho**2)]).doit().simplify()\n",
    "integrand1"
   ]
  },
  {
   "cell_type": "code",
   "execution_count": null,
   "id": "e94c86bf",
   "metadata": {},
   "outputs": [],
   "source": [
    "smp.integrate(integrand1, (the, 0, 2*smp.pi), (rho, 0, 1))"
   ]
  },
  {
   "cell_type": "markdown",
   "id": "6edcfc5d",
   "metadata": {},
   "source": [
    "As before, if this integral can't be done symbolically, need to use scipy to convert to numerical function."
   ]
  },
  {
   "cell_type": "markdown",
   "id": "18689b83",
   "metadata": {},
   "source": [
    "## Surface Integrals (Vector)"
   ]
  },
  {
   "cell_type": "markdown",
   "id": "0b3675c1",
   "metadata": {},
   "source": [
    "The surface integral of a vector function $\\vec{G}(\\vec{r})$ is given by\n",
    "\n",
    "$$\\iint_S \\vec{G}(\\vec{r}(u,v)) \\cdot \\left(\\frac{d\\vec{r}}{du} \\times \\frac{d\\vec{r}}{dv}\\right) du dv$$\n",
    "\n",
    "This is also know as the flux of the vector field $\\vec{G}$ through the surface"
   ]
  },
  {
   "cell_type": "markdown",
   "id": "48c036f5",
   "metadata": {},
   "source": [
    "2D parabola: $\\vec{r}(x,y) = \\left<x, y, x^2+y^2 \\right>$ and thus $\\vec{r}(\\rho, \\theta) = \\left<\\rho\\cos\\theta, \\rho\\sin\\theta, \\rho^2\\right>$. Suppose a vector field is given by $\\vec{G}(x,y,z)=\\left<y^2, z, 0 \\right>$. Find the flux of $\\vec{G}$ through half the surface for $0<\\rho<1$ and $0<\\theta<\\pi$"
   ]
  },
  {
   "cell_type": "code",
   "execution_count": null,
   "id": "87e65f96",
   "metadata": {},
   "outputs": [],
   "source": [
    "rho, the = smp.symbols(r'\\rho \\theta',pos=True, real=True)\n",
    "x, y, z, G1, G2, G3 = smp.symbols('x y z G_1, G_2, G_3', cls=smp.Function, real=True)\n",
    "x = x(rho, the)\n",
    "y = y(rho, the)\n",
    "z = z(rho, the)\n",
    "G1 = G1(x,y,z)\n",
    "G2 = G2(x,y,z)\n",
    "G3 = G3(x,y,z)\n",
    "r = smp.Matrix([x, y, z])\n",
    "G = smp.Matrix([G1, G2, G3])"
   ]
  },
  {
   "cell_type": "code",
   "execution_count": null,
   "id": "1cd265af",
   "metadata": {},
   "outputs": [],
   "source": [
    "integrand = G.dot(smp.diff(r,rho).cross(smp.diff(r,the)))\n",
    "integrand"
   ]
  },
  {
   "cell_type": "code",
   "execution_count": null,
   "id": "19d33474",
   "metadata": {},
   "outputs": [],
   "source": [
    "integrand1 = integrand.subs([(G1, y**2),\n",
    "                             (G2, z),\n",
    "                             (G3, 0),\n",
    "                             (x, rho*smp.cos(the)),\n",
    "                             (y, rho*smp.sin(the)),\n",
    "                             (z, rho**2)]).doit().simplify()\n",
    "integrand1"
   ]
  },
  {
   "cell_type": "code",
   "execution_count": null,
   "id": "6dc9340c",
   "metadata": {},
   "outputs": [],
   "source": [
    "smp.integrate(integrand1, (the, 0, smp.pi), (rho, 0, 1))"
   ]
  },
  {
   "cell_type": "markdown",
   "id": "0fa7b255",
   "metadata": {},
   "source": [
    "Again, if this could not be done symbolically, one would need to convert the integrand into a numpy function and integrate using scipys `quad` function, like in previous examples."
   ]
  },
  {
   "cell_type": "markdown",
   "id": "7ac2251b",
   "metadata": {},
   "source": [
    "## Explicit Sympy Functionality"
   ]
  },
  {
   "cell_type": "code",
   "execution_count": null,
   "id": "4b64e449",
   "metadata": {},
   "outputs": [],
   "source": [
    "from sympy.vector import ParametricRegion"
   ]
  },
  {
   "cell_type": "markdown",
   "id": "fb1bcc1b",
   "metadata": {},
   "source": [
    "Find the mass of a cylinder with radius $a$ and height $h$ centered at origin with density $\\rho(x,y)=x^2+y^2$"
   ]
  },
  {
   "cell_type": "code",
   "execution_count": null,
   "id": "178ba0e5",
   "metadata": {},
   "outputs": [],
   "source": [
    "a, h, r, the, z = smp.symbols(r'a h r \\theta z', positive=True)\n",
    "cylinder = ParametricRegion((r*smp.cos(the), r*smp.sin(the), z),\n",
    "                    (the, 0, 2*smp.pi), (z, 0, h), (r, 0, a))\n",
    "vector_integrate(C.x**2 + C.y**2, cylinder)"
   ]
  },
  {
   "cell_type": "markdown",
   "id": "5190dbba",
   "metadata": {},
   "source": [
    "Not necessarily a fan of this functionailty because there is no clear way of converting it into an numerical function if it cannot be computed symbolically. For more see\n",
    "\n",
    "https://docs.sympy.org/latest/modules/vector/vector_integration.html"
   ]
  }
 ],
 "metadata": {
  "kernelspec": {
   "display_name": "Python 3 (ipykernel)",
   "language": "python",
   "name": "python3"
  },
  "language_info": {
   "codemirror_mode": {
    "name": "ipython",
    "version": 3
   },
   "file_extension": ".py",
   "mimetype": "text/x-python",
   "name": "python",
   "nbconvert_exporter": "python",
   "pygments_lexer": "ipython3",
   "version": "3.9.18"
  }
 },
 "nbformat": 4,
 "nbformat_minor": 5
}
